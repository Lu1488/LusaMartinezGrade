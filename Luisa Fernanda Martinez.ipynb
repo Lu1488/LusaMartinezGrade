{
 "cells": [
  {
   "cell_type": "markdown",
   "id": "2acc1b03-d814-4bd7-99c7-02cf2fb44423",
   "metadata": {},
   "source": [
    "My Jupyter Notebook on IBM Watson Studio"
   ]
  },
  {
   "cell_type": "markdown",
   "id": "3ae9a2b1-674f-44ae-926a-3f4240ea2735",
   "metadata": {},
   "source": [
    "**Luisa Fernanda Martinex Lozada**"
   ]
  },
  {
   "cell_type": "markdown",
   "id": "a043a1d1-1dbb-44d3-90c2-aee81740957b",
   "metadata": {},
   "source": [
    "Fraud control analyst"
   ]
  },
  {
   "cell_type": "markdown",
   "id": "972f5ab4-9b90-4dd3-954e-22bf7da138f2",
   "metadata": {},
   "source": [
    "*I would like learn about the code and new programs to create and optimization process in my work*"
   ]
  },
  {
   "cell_type": "markdown",
   "id": "c6eac853-467f-4f7d-a472-f3acce78b057",
   "metadata": {},
   "source": [
    "*I´m interesting in learn data science due to my work and the multiple oportunities of work*"
   ]
  },
  {
   "cell_type": "markdown",
   "id": "86bb83e6-9b8e-4b3a-8c3e-0f8b3a3f37e0",
   "metadata": {},
   "source": [
    "### MY CODE IS GOING TO DO SUM OF SOME VALUES"
   ]
  },
  {
   "cell_type": "code",
   "execution_count": null,
   "id": "fe79c6eb-357f-4d3f-ad90-420fa1c8110b",
   "metadata": {},
   "outputs": [],
   "source": []
  }
 ],
 "metadata": {
  "kernelspec": {
   "display_name": "Python",
   "language": "python",
   "name": "conda-env-python-py"
  },
  "language_info": {
   "codemirror_mode": {
    "name": "ipython",
    "version": 3
   },
   "file_extension": ".py",
   "mimetype": "text/x-python",
   "name": "python",
   "nbconvert_exporter": "python",
   "pygments_lexer": "ipython3",
   "version": "3.7.12"
  }
 },
 "nbformat": 4,
 "nbformat_minor": 5
}
