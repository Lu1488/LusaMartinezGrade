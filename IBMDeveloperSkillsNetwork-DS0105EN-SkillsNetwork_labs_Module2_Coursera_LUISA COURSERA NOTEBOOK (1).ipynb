{
  "metadata": {
    "language_info": {
      "codemirror_mode": {
        "name": "python",
        "version": 3
      },
      "file_extension": ".py",
      "mimetype": "text/x-python",
      "name": "python",
      "nbconvert_exporter": "python",
      "pygments_lexer": "ipython3",
      "version": "3.8"
    },
    "kernelspec": {
      "name": "python",
      "display_name": "Pyolite",
      "language": "python"
    }
  },
  "nbformat_minor": 4,
  "nbformat": 4,
  "cells": [
    {
      "cell_type": "markdown",
      "source": "My Jupyter Notebook on IBM Watson Studio",
      "metadata": {}
    },
    {
      "cell_type": "markdown",
      "source": "**Luisa Fernanda Martinex Lozada**",
      "metadata": {}
    },
    {
      "cell_type": "markdown",
      "source": "Fraud control analyst",
      "metadata": {}
    },
    {
      "cell_type": "markdown",
      "source": "*I would like learn about the code and new programs to create and optimization process in my work*",
      "metadata": {}
    },
    {
      "cell_type": "markdown",
      "source": "*I´m interesting in learn data science due to my work and the multiple oportunities of work*",
      "metadata": {}
    },
    {
      "cell_type": "markdown",
      "source": "### MY CODE IS GOING TO DO SUM OF SOME VALUES",
      "metadata": {}
    },
    {
      "cell_type": "markdown",
      "source": "*sume of values*",
      "metadata": {}
    },
    {
      "cell_type": "code",
      "source": "345+97",
      "metadata": {
        "trusted": true
      },
      "execution_count": 6,
      "outputs": [
        {
          "execution_count": 6,
          "output_type": "execute_result",
          "data": {
            "text/plain": "442"
          },
          "metadata": {}
        }
      ]
    },
    {
      "cell_type": "code",
      "source": "590+9523+536-90",
      "metadata": {
        "trusted": true
      },
      "execution_count": 7,
      "outputs": [
        {
          "execution_count": 7,
          "output_type": "execute_result",
          "data": {
            "text/plain": "10559"
          },
          "metadata": {}
        }
      ]
    },
    {
      "cell_type": "markdown",
      "source": "* Things to do today\n  * send inform to merchant\n  * download information to learn about data science\n  * Read a book\n* Thing to do in the course of Data science\n1. sent the homework before 8 January\n2. read about the code in Jupyter\n",
      "metadata": {}
    },
    {
      "cell_type": "code",
      "source": "",
      "metadata": {},
      "execution_count": null,
      "outputs": []
    }
  ]
}